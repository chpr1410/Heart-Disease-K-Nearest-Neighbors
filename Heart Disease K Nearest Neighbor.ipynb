{
 "cells": [
  {
   "cell_type": "markdown",
   "metadata": {},
   "source": [
    "# Machine Learning Project - Heart Disease \n",
    "### K-Nearest Neighbors\n",
    "\n",
    "**Dataset:**\n",
    "http://archive.ics.uci.edu/ml/datasets/heart+Disease\n",
    "\n",
    "**Objective:** Predict heart disease in patients."
   ]
  },
  {
   "cell_type": "markdown",
   "metadata": {},
   "source": [
    "## Step 1: EDA\n",
    "First, I load and preview the data."
   ]
  },
  {
   "cell_type": "code",
   "execution_count": 1,
   "metadata": {},
   "outputs": [],
   "source": [
    "#Import packages\n",
    "\n",
    "# pandas\n",
    "import pandas as pd\n",
    "\n",
    "# sklearn\n",
    "from sklearn.neighbors import KNeighborsClassifier\n",
    "from sklearn.model_selection import train_test_split\n",
    "from sklearn.decomposition import PCA\n",
    "\n",
    "# plotting\n",
    "import seaborn as sns\n",
    "import matplotlib.pyplot as plt\n",
    "%matplotlib inline\n",
    "sns.set() "
   ]
  },
  {
   "cell_type": "code",
   "execution_count": 2,
   "metadata": {},
   "outputs": [
    {
     "data": {
      "text/html": [
       "<div>\n",
       "<style scoped>\n",
       "    .dataframe tbody tr th:only-of-type {\n",
       "        vertical-align: middle;\n",
       "    }\n",
       "\n",
       "    .dataframe tbody tr th {\n",
       "        vertical-align: top;\n",
       "    }\n",
       "\n",
       "    .dataframe thead th {\n",
       "        text-align: right;\n",
       "    }\n",
       "</style>\n",
       "<table border=\"1\" class=\"dataframe\">\n",
       "  <thead>\n",
       "    <tr style=\"text-align: right;\">\n",
       "      <th></th>\n",
       "      <th>age</th>\n",
       "      <th>sex</th>\n",
       "      <th>cp</th>\n",
       "      <th>trestbps</th>\n",
       "      <th>chol</th>\n",
       "      <th>cigs</th>\n",
       "      <th>years</th>\n",
       "      <th>fbs</th>\n",
       "      <th>famhist</th>\n",
       "      <th>restecg</th>\n",
       "      <th>thalach</th>\n",
       "      <th>exang</th>\n",
       "      <th>thal</th>\n",
       "      <th>num</th>\n",
       "    </tr>\n",
       "  </thead>\n",
       "  <tbody>\n",
       "    <tr>\n",
       "      <th>0</th>\n",
       "      <td>63</td>\n",
       "      <td>1</td>\n",
       "      <td>1</td>\n",
       "      <td>145</td>\n",
       "      <td>233</td>\n",
       "      <td>50.0</td>\n",
       "      <td>20.0</td>\n",
       "      <td>1</td>\n",
       "      <td>1</td>\n",
       "      <td>2</td>\n",
       "      <td>150</td>\n",
       "      <td>0</td>\n",
       "      <td>6</td>\n",
       "      <td>0</td>\n",
       "    </tr>\n",
       "    <tr>\n",
       "      <th>1</th>\n",
       "      <td>67</td>\n",
       "      <td>1</td>\n",
       "      <td>4</td>\n",
       "      <td>160</td>\n",
       "      <td>286</td>\n",
       "      <td>40.0</td>\n",
       "      <td>40.0</td>\n",
       "      <td>0</td>\n",
       "      <td>1</td>\n",
       "      <td>2</td>\n",
       "      <td>108</td>\n",
       "      <td>1</td>\n",
       "      <td>3</td>\n",
       "      <td>2</td>\n",
       "    </tr>\n",
       "    <tr>\n",
       "      <th>2</th>\n",
       "      <td>67</td>\n",
       "      <td>1</td>\n",
       "      <td>4</td>\n",
       "      <td>120</td>\n",
       "      <td>229</td>\n",
       "      <td>20.0</td>\n",
       "      <td>35.0</td>\n",
       "      <td>0</td>\n",
       "      <td>1</td>\n",
       "      <td>2</td>\n",
       "      <td>129</td>\n",
       "      <td>1</td>\n",
       "      <td>7</td>\n",
       "      <td>1</td>\n",
       "    </tr>\n",
       "    <tr>\n",
       "      <th>3</th>\n",
       "      <td>37</td>\n",
       "      <td>1</td>\n",
       "      <td>3</td>\n",
       "      <td>130</td>\n",
       "      <td>250</td>\n",
       "      <td>0.0</td>\n",
       "      <td>0.0</td>\n",
       "      <td>0</td>\n",
       "      <td>1</td>\n",
       "      <td>0</td>\n",
       "      <td>187</td>\n",
       "      <td>0</td>\n",
       "      <td>3</td>\n",
       "      <td>0</td>\n",
       "    </tr>\n",
       "    <tr>\n",
       "      <th>4</th>\n",
       "      <td>41</td>\n",
       "      <td>0</td>\n",
       "      <td>2</td>\n",
       "      <td>130</td>\n",
       "      <td>204</td>\n",
       "      <td>0.0</td>\n",
       "      <td>0.0</td>\n",
       "      <td>0</td>\n",
       "      <td>1</td>\n",
       "      <td>2</td>\n",
       "      <td>172</td>\n",
       "      <td>0</td>\n",
       "      <td>3</td>\n",
       "      <td>0</td>\n",
       "    </tr>\n",
       "    <tr>\n",
       "      <th>5</th>\n",
       "      <td>56</td>\n",
       "      <td>1</td>\n",
       "      <td>2</td>\n",
       "      <td>120</td>\n",
       "      <td>236</td>\n",
       "      <td>20.0</td>\n",
       "      <td>20.0</td>\n",
       "      <td>0</td>\n",
       "      <td>1</td>\n",
       "      <td>0</td>\n",
       "      <td>178</td>\n",
       "      <td>0</td>\n",
       "      <td>3</td>\n",
       "      <td>0</td>\n",
       "    </tr>\n",
       "    <tr>\n",
       "      <th>6</th>\n",
       "      <td>62</td>\n",
       "      <td>0</td>\n",
       "      <td>4</td>\n",
       "      <td>140</td>\n",
       "      <td>268</td>\n",
       "      <td>0.0</td>\n",
       "      <td>0.0</td>\n",
       "      <td>0</td>\n",
       "      <td>1</td>\n",
       "      <td>2</td>\n",
       "      <td>160</td>\n",
       "      <td>0</td>\n",
       "      <td>3</td>\n",
       "      <td>3</td>\n",
       "    </tr>\n",
       "    <tr>\n",
       "      <th>7</th>\n",
       "      <td>57</td>\n",
       "      <td>0</td>\n",
       "      <td>4</td>\n",
       "      <td>120</td>\n",
       "      <td>354</td>\n",
       "      <td>0.0</td>\n",
       "      <td>0.0</td>\n",
       "      <td>0</td>\n",
       "      <td>1</td>\n",
       "      <td>0</td>\n",
       "      <td>163</td>\n",
       "      <td>1</td>\n",
       "      <td>3</td>\n",
       "      <td>0</td>\n",
       "    </tr>\n",
       "    <tr>\n",
       "      <th>8</th>\n",
       "      <td>63</td>\n",
       "      <td>1</td>\n",
       "      <td>4</td>\n",
       "      <td>130</td>\n",
       "      <td>254</td>\n",
       "      <td>0.0</td>\n",
       "      <td>0.0</td>\n",
       "      <td>0</td>\n",
       "      <td>0</td>\n",
       "      <td>2</td>\n",
       "      <td>147</td>\n",
       "      <td>0</td>\n",
       "      <td>7</td>\n",
       "      <td>2</td>\n",
       "    </tr>\n",
       "    <tr>\n",
       "      <th>9</th>\n",
       "      <td>53</td>\n",
       "      <td>1</td>\n",
       "      <td>4</td>\n",
       "      <td>140</td>\n",
       "      <td>203</td>\n",
       "      <td>20.0</td>\n",
       "      <td>25.0</td>\n",
       "      <td>1</td>\n",
       "      <td>1</td>\n",
       "      <td>2</td>\n",
       "      <td>155</td>\n",
       "      <td>1</td>\n",
       "      <td>7</td>\n",
       "      <td>1</td>\n",
       "    </tr>\n",
       "  </tbody>\n",
       "</table>\n",
       "</div>"
      ],
      "text/plain": [
       "   age  sex  cp  trestbps  chol  cigs  years  fbs  famhist  restecg  thalach  \\\n",
       "0   63    1   1       145   233  50.0   20.0    1        1        2      150   \n",
       "1   67    1   4       160   286  40.0   40.0    0        1        2      108   \n",
       "2   67    1   4       120   229  20.0   35.0    0        1        2      129   \n",
       "3   37    1   3       130   250   0.0    0.0    0        1        0      187   \n",
       "4   41    0   2       130   204   0.0    0.0    0        1        2      172   \n",
       "5   56    1   2       120   236  20.0   20.0    0        1        0      178   \n",
       "6   62    0   4       140   268   0.0    0.0    0        1        2      160   \n",
       "7   57    0   4       120   354   0.0    0.0    0        1        0      163   \n",
       "8   63    1   4       130   254   0.0    0.0    0        0        2      147   \n",
       "9   53    1   4       140   203  20.0   25.0    1        1        2      155   \n",
       "\n",
       "   exang  thal  num  \n",
       "0      0     6    0  \n",
       "1      1     3    2  \n",
       "2      1     7    1  \n",
       "3      0     3    0  \n",
       "4      0     3    0  \n",
       "5      0     3    0  \n",
       "6      0     3    3  \n",
       "7      1     3    0  \n",
       "8      0     7    2  \n",
       "9      1     7    1  "
      ]
     },
     "execution_count": 2,
     "metadata": {},
     "output_type": "execute_result"
    }
   ],
   "source": [
    "# Load and preview the data\n",
    "\n",
    "data = pd.read_csv('heart.disease.data.clean.csv')\n",
    "data.head(10)"
   ]
  },
  {
   "cell_type": "markdown",
   "metadata": {},
   "source": [
    "#### Begin EDA"
   ]
  },
  {
   "cell_type": "code",
   "execution_count": 104,
   "metadata": {},
   "outputs": [
    {
     "name": "stdout",
     "output_type": "stream",
     "text": [
      "<class 'pandas.core.frame.DataFrame'>\n",
      "RangeIndex: 282 entries, 0 to 281\n",
      "Data columns (total 14 columns):\n",
      " #   Column    Non-Null Count  Dtype  \n",
      "---  ------    --------------  -----  \n",
      " 0   age       282 non-null    int64  \n",
      " 1   sex       282 non-null    int64  \n",
      " 2   cp        282 non-null    int64  \n",
      " 3   trestbps  282 non-null    int64  \n",
      " 4   chol      282 non-null    int64  \n",
      " 5   cigs      282 non-null    float64\n",
      " 6   years     282 non-null    float64\n",
      " 7   fbs       282 non-null    int64  \n",
      " 8   famhist   282 non-null    int64  \n",
      " 9   restecg   282 non-null    int64  \n",
      " 10  thalach   282 non-null    int64  \n",
      " 11  exang     282 non-null    int64  \n",
      " 12  thal      282 non-null    int64  \n",
      " 13  num       282 non-null    int64  \n",
      "dtypes: float64(2), int64(12)\n",
      "memory usage: 31.0 KB\n"
     ]
    }
   ],
   "source": [
    "#Brief overview\n",
    "data.info()"
   ]
  },
  {
   "cell_type": "markdown",
   "metadata": {},
   "source": [
    "There are 14 numerical attributes and all of the missing data has been dealt with."
   ]
  },
  {
   "cell_type": "code",
   "execution_count": 3,
   "metadata": {},
   "outputs": [
    {
     "data": {
      "text/html": [
       "<div>\n",
       "<style scoped>\n",
       "    .dataframe tbody tr th:only-of-type {\n",
       "        vertical-align: middle;\n",
       "    }\n",
       "\n",
       "    .dataframe tbody tr th {\n",
       "        vertical-align: top;\n",
       "    }\n",
       "\n",
       "    .dataframe thead th {\n",
       "        text-align: right;\n",
       "    }\n",
       "</style>\n",
       "<table border=\"1\" class=\"dataframe\">\n",
       "  <thead>\n",
       "    <tr style=\"text-align: right;\">\n",
       "      <th></th>\n",
       "      <th>age</th>\n",
       "      <th>sex</th>\n",
       "      <th>cp</th>\n",
       "      <th>trestbps</th>\n",
       "      <th>chol</th>\n",
       "      <th>cigs</th>\n",
       "      <th>years</th>\n",
       "      <th>fbs</th>\n",
       "      <th>famhist</th>\n",
       "      <th>restecg</th>\n",
       "      <th>thalach</th>\n",
       "      <th>exang</th>\n",
       "      <th>thal</th>\n",
       "      <th>num</th>\n",
       "    </tr>\n",
       "  </thead>\n",
       "  <tbody>\n",
       "    <tr>\n",
       "      <th>count</th>\n",
       "      <td>282.000000</td>\n",
       "      <td>282.000000</td>\n",
       "      <td>282.000000</td>\n",
       "      <td>282.000000</td>\n",
       "      <td>282.000000</td>\n",
       "      <td>282.000000</td>\n",
       "      <td>282.000000</td>\n",
       "      <td>282.000000</td>\n",
       "      <td>282.000000</td>\n",
       "      <td>282.000000</td>\n",
       "      <td>282.000000</td>\n",
       "      <td>282.000000</td>\n",
       "      <td>282.000000</td>\n",
       "      <td>282.000000</td>\n",
       "    </tr>\n",
       "    <tr>\n",
       "      <th>mean</th>\n",
       "      <td>54.411348</td>\n",
       "      <td>0.677305</td>\n",
       "      <td>3.163121</td>\n",
       "      <td>131.195035</td>\n",
       "      <td>247.705674</td>\n",
       "      <td>16.836011</td>\n",
       "      <td>15.347364</td>\n",
       "      <td>0.148936</td>\n",
       "      <td>0.620567</td>\n",
       "      <td>1.014184</td>\n",
       "      <td>149.826241</td>\n",
       "      <td>0.326241</td>\n",
       "      <td>4.677305</td>\n",
       "      <td>0.907801</td>\n",
       "    </tr>\n",
       "    <tr>\n",
       "      <th>std</th>\n",
       "      <td>9.053083</td>\n",
       "      <td>0.468338</td>\n",
       "      <td>0.955405</td>\n",
       "      <td>16.739821</td>\n",
       "      <td>46.178771</td>\n",
       "      <td>18.876755</td>\n",
       "      <td>15.276814</td>\n",
       "      <td>0.356658</td>\n",
       "      <td>0.486108</td>\n",
       "      <td>0.998118</td>\n",
       "      <td>22.737594</td>\n",
       "      <td>0.469670</td>\n",
       "      <td>1.936386</td>\n",
       "      <td>1.224894</td>\n",
       "    </tr>\n",
       "    <tr>\n",
       "      <th>min</th>\n",
       "      <td>29.000000</td>\n",
       "      <td>0.000000</td>\n",
       "      <td>1.000000</td>\n",
       "      <td>94.000000</td>\n",
       "      <td>126.000000</td>\n",
       "      <td>0.000000</td>\n",
       "      <td>0.000000</td>\n",
       "      <td>0.000000</td>\n",
       "      <td>0.000000</td>\n",
       "      <td>0.000000</td>\n",
       "      <td>88.000000</td>\n",
       "      <td>0.000000</td>\n",
       "      <td>3.000000</td>\n",
       "      <td>0.000000</td>\n",
       "    </tr>\n",
       "    <tr>\n",
       "      <th>25%</th>\n",
       "      <td>48.000000</td>\n",
       "      <td>0.000000</td>\n",
       "      <td>3.000000</td>\n",
       "      <td>120.000000</td>\n",
       "      <td>213.000000</td>\n",
       "      <td>0.000000</td>\n",
       "      <td>0.000000</td>\n",
       "      <td>0.000000</td>\n",
       "      <td>0.000000</td>\n",
       "      <td>0.000000</td>\n",
       "      <td>133.250000</td>\n",
       "      <td>0.000000</td>\n",
       "      <td>3.000000</td>\n",
       "      <td>0.000000</td>\n",
       "    </tr>\n",
       "    <tr>\n",
       "      <th>50%</th>\n",
       "      <td>55.000000</td>\n",
       "      <td>1.000000</td>\n",
       "      <td>3.000000</td>\n",
       "      <td>130.000000</td>\n",
       "      <td>244.000000</td>\n",
       "      <td>11.976385</td>\n",
       "      <td>15.000000</td>\n",
       "      <td>0.000000</td>\n",
       "      <td>1.000000</td>\n",
       "      <td>2.000000</td>\n",
       "      <td>153.500000</td>\n",
       "      <td>0.000000</td>\n",
       "      <td>3.000000</td>\n",
       "      <td>0.000000</td>\n",
       "    </tr>\n",
       "    <tr>\n",
       "      <th>75%</th>\n",
       "      <td>61.000000</td>\n",
       "      <td>1.000000</td>\n",
       "      <td>4.000000</td>\n",
       "      <td>140.000000</td>\n",
       "      <td>277.000000</td>\n",
       "      <td>30.000000</td>\n",
       "      <td>30.000000</td>\n",
       "      <td>0.000000</td>\n",
       "      <td>1.000000</td>\n",
       "      <td>2.000000</td>\n",
       "      <td>165.750000</td>\n",
       "      <td>1.000000</td>\n",
       "      <td>7.000000</td>\n",
       "      <td>2.000000</td>\n",
       "    </tr>\n",
       "    <tr>\n",
       "      <th>max</th>\n",
       "      <td>77.000000</td>\n",
       "      <td>1.000000</td>\n",
       "      <td>4.000000</td>\n",
       "      <td>170.000000</td>\n",
       "      <td>360.000000</td>\n",
       "      <td>75.000000</td>\n",
       "      <td>54.000000</td>\n",
       "      <td>1.000000</td>\n",
       "      <td>1.000000</td>\n",
       "      <td>2.000000</td>\n",
       "      <td>202.000000</td>\n",
       "      <td>1.000000</td>\n",
       "      <td>7.000000</td>\n",
       "      <td>4.000000</td>\n",
       "    </tr>\n",
       "  </tbody>\n",
       "</table>\n",
       "</div>"
      ],
      "text/plain": [
       "              age         sex          cp    trestbps        chol        cigs  \\\n",
       "count  282.000000  282.000000  282.000000  282.000000  282.000000  282.000000   \n",
       "mean    54.411348    0.677305    3.163121  131.195035  247.705674   16.836011   \n",
       "std      9.053083    0.468338    0.955405   16.739821   46.178771   18.876755   \n",
       "min     29.000000    0.000000    1.000000   94.000000  126.000000    0.000000   \n",
       "25%     48.000000    0.000000    3.000000  120.000000  213.000000    0.000000   \n",
       "50%     55.000000    1.000000    3.000000  130.000000  244.000000   11.976385   \n",
       "75%     61.000000    1.000000    4.000000  140.000000  277.000000   30.000000   \n",
       "max     77.000000    1.000000    4.000000  170.000000  360.000000   75.000000   \n",
       "\n",
       "            years         fbs     famhist     restecg     thalach       exang  \\\n",
       "count  282.000000  282.000000  282.000000  282.000000  282.000000  282.000000   \n",
       "mean    15.347364    0.148936    0.620567    1.014184  149.826241    0.326241   \n",
       "std     15.276814    0.356658    0.486108    0.998118   22.737594    0.469670   \n",
       "min      0.000000    0.000000    0.000000    0.000000   88.000000    0.000000   \n",
       "25%      0.000000    0.000000    0.000000    0.000000  133.250000    0.000000   \n",
       "50%     15.000000    0.000000    1.000000    2.000000  153.500000    0.000000   \n",
       "75%     30.000000    0.000000    1.000000    2.000000  165.750000    1.000000   \n",
       "max     54.000000    1.000000    1.000000    2.000000  202.000000    1.000000   \n",
       "\n",
       "             thal         num  \n",
       "count  282.000000  282.000000  \n",
       "mean     4.677305    0.907801  \n",
       "std      1.936386    1.224894  \n",
       "min      3.000000    0.000000  \n",
       "25%      3.000000    0.000000  \n",
       "50%      3.000000    0.000000  \n",
       "75%      7.000000    2.000000  \n",
       "max      7.000000    4.000000  "
      ]
     },
     "execution_count": 3,
     "metadata": {},
     "output_type": "execute_result"
    }
   ],
   "source": [
    "# Descriptvie Statistics\n",
    "data.describe()"
   ]
  },
  {
   "cell_type": "markdown",
   "metadata": {},
   "source": [
    "The descriptive statistics show that the mean age is 54 with a range from 29 to 77.  Sex, with a mean of 0.677 is slightly skewwed toward male (coded as 1).  Outliers from last wee have been removed from cigarettes smoekd per day.  The mean is 16.  The years that patients have smoked has a mean of 15 with a standard deviation of 15.  Some patients do not smoke at all (0 years) and some have smoked for upwards of 54 there is a big range.  \n",
    "\n",
    "After gaining an idea about what the data includes, it will be valuable to look at the relationships amgong the attributes.  To accomplish this, I will create a correlation heat map and look at the specific correlations of the target variable.  \n",
    "\n",
    "Doing this might allow me to remove some attributes that don't affect the output."
   ]
  },
  {
   "cell_type": "code",
   "execution_count": 4,
   "metadata": {},
   "outputs": [
    {
     "data": {
      "image/png": "[encoded data removed]",
      "text/plain": [
       "<Figure size 432x288 with 2 Axes>"
      ]
     },
     "metadata": {},
     "output_type": "display_data"
    }
   ],
   "source": [
    "# Correlation\n",
    "_ = sns.heatmap(data.corr())\n",
    "\n",
    "# Source: Week 2 Lecture"
   ]
  },
  {
   "cell_type": "code",
   "execution_count": 5,
   "metadata": {},
   "outputs": [
    {
     "data": {
      "text/plain": [
       "num         1.000000\n",
       "thal        0.506545\n",
       "exang       0.398880\n",
       "cp          0.383891\n",
       "sex         0.239516\n",
       "age         0.210747\n",
       "restecg     0.187365\n",
       "trestbps    0.144412\n",
       "chol        0.114023\n",
       "years       0.077806\n",
       "famhist     0.048619\n",
       "cigs        0.046374\n",
       "fbs         0.039690\n",
       "thalach    -0.397067\n",
       "Name: num, dtype: float64"
      ]
     },
     "execution_count": 5,
     "metadata": {},
     "output_type": "execute_result"
    }
   ],
   "source": [
    "# Correlation Matrix\n",
    "corr_matrix = data.corr()\n",
    "\n",
    "# Correlation of num with the other attributes\n",
    "corr_matrix[\"num\"].sort_values(ascending=False)"
   ]
  },
  {
   "cell_type": "markdown",
   "metadata": {},
   "source": [
    "The attributes 'years', 'famhist','cigs',and 'fbs' all have a low correlation with the target variable 'num', so they can be removed, which I will do now."
   ]
  },
  {
   "cell_type": "code",
   "execution_count": 6,
   "metadata": {},
   "outputs": [
    {
     "data": {
      "text/html": [
       "<div>\n",
       "<style scoped>\n",
       "    .dataframe tbody tr th:only-of-type {\n",
       "        vertical-align: middle;\n",
       "    }\n",
       "\n",
       "    .dataframe tbody tr th {\n",
       "        vertical-align: top;\n",
       "    }\n",
       "\n",
       "    .dataframe thead th {\n",
       "        text-align: right;\n",
       "    }\n",
       "</style>\n",
       "<table border=\"1\" class=\"dataframe\">\n",
       "  <thead>\n",
       "    <tr style=\"text-align: right;\">\n",
       "      <th></th>\n",
       "      <th>age</th>\n",
       "      <th>sex</th>\n",
       "      <th>cp</th>\n",
       "      <th>trestbps</th>\n",
       "      <th>chol</th>\n",
       "      <th>restecg</th>\n",
       "      <th>thalach</th>\n",
       "      <th>exang</th>\n",
       "      <th>thal</th>\n",
       "      <th>num</th>\n",
       "    </tr>\n",
       "  </thead>\n",
       "  <tbody>\n",
       "    <tr>\n",
       "      <th>0</th>\n",
       "      <td>63</td>\n",
       "      <td>1</td>\n",
       "      <td>1</td>\n",
       "      <td>145</td>\n",
       "      <td>233</td>\n",
       "      <td>2</td>\n",
       "      <td>150</td>\n",
       "      <td>0</td>\n",
       "      <td>6</td>\n",
       "      <td>0</td>\n",
       "    </tr>\n",
       "    <tr>\n",
       "      <th>1</th>\n",
       "      <td>67</td>\n",
       "      <td>1</td>\n",
       "      <td>4</td>\n",
       "      <td>160</td>\n",
       "      <td>286</td>\n",
       "      <td>2</td>\n",
       "      <td>108</td>\n",
       "      <td>1</td>\n",
       "      <td>3</td>\n",
       "      <td>2</td>\n",
       "    </tr>\n",
       "    <tr>\n",
       "      <th>2</th>\n",
       "      <td>67</td>\n",
       "      <td>1</td>\n",
       "      <td>4</td>\n",
       "      <td>120</td>\n",
       "      <td>229</td>\n",
       "      <td>2</td>\n",
       "      <td>129</td>\n",
       "      <td>1</td>\n",
       "      <td>7</td>\n",
       "      <td>1</td>\n",
       "    </tr>\n",
       "    <tr>\n",
       "      <th>3</th>\n",
       "      <td>37</td>\n",
       "      <td>1</td>\n",
       "      <td>3</td>\n",
       "      <td>130</td>\n",
       "      <td>250</td>\n",
       "      <td>0</td>\n",
       "      <td>187</td>\n",
       "      <td>0</td>\n",
       "      <td>3</td>\n",
       "      <td>0</td>\n",
       "    </tr>\n",
       "    <tr>\n",
       "      <th>4</th>\n",
       "      <td>41</td>\n",
       "      <td>0</td>\n",
       "      <td>2</td>\n",
       "      <td>130</td>\n",
       "      <td>204</td>\n",
       "      <td>2</td>\n",
       "      <td>172</td>\n",
       "      <td>0</td>\n",
       "      <td>3</td>\n",
       "      <td>0</td>\n",
       "    </tr>\n",
       "    <tr>\n",
       "      <th>5</th>\n",
       "      <td>56</td>\n",
       "      <td>1</td>\n",
       "      <td>2</td>\n",
       "      <td>120</td>\n",
       "      <td>236</td>\n",
       "      <td>0</td>\n",
       "      <td>178</td>\n",
       "      <td>0</td>\n",
       "      <td>3</td>\n",
       "      <td>0</td>\n",
       "    </tr>\n",
       "    <tr>\n",
       "      <th>6</th>\n",
       "      <td>62</td>\n",
       "      <td>0</td>\n",
       "      <td>4</td>\n",
       "      <td>140</td>\n",
       "      <td>268</td>\n",
       "      <td>2</td>\n",
       "      <td>160</td>\n",
       "      <td>0</td>\n",
       "      <td>3</td>\n",
       "      <td>3</td>\n",
       "    </tr>\n",
       "    <tr>\n",
       "      <th>7</th>\n",
       "      <td>57</td>\n",
       "      <td>0</td>\n",
       "      <td>4</td>\n",
       "      <td>120</td>\n",
       "      <td>354</td>\n",
       "      <td>0</td>\n",
       "      <td>163</td>\n",
       "      <td>1</td>\n",
       "      <td>3</td>\n",
       "      <td>0</td>\n",
       "    </tr>\n",
       "    <tr>\n",
       "      <th>8</th>\n",
       "      <td>63</td>\n",
       "      <td>1</td>\n",
       "      <td>4</td>\n",
       "      <td>130</td>\n",
       "      <td>254</td>\n",
       "      <td>2</td>\n",
       "      <td>147</td>\n",
       "      <td>0</td>\n",
       "      <td>7</td>\n",
       "      <td>2</td>\n",
       "    </tr>\n",
       "    <tr>\n",
       "      <th>9</th>\n",
       "      <td>53</td>\n",
       "      <td>1</td>\n",
       "      <td>4</td>\n",
       "      <td>140</td>\n",
       "      <td>203</td>\n",
       "      <td>2</td>\n",
       "      <td>155</td>\n",
       "      <td>1</td>\n",
       "      <td>7</td>\n",
       "      <td>1</td>\n",
       "    </tr>\n",
       "  </tbody>\n",
       "</table>\n",
       "</div>"
      ],
      "text/plain": [
       "   age  sex  cp  trestbps  chol  restecg  thalach  exang  thal  num\n",
       "0   63    1   1       145   233        2      150      0     6    0\n",
       "1   67    1   4       160   286        2      108      1     3    2\n",
       "2   67    1   4       120   229        2      129      1     7    1\n",
       "3   37    1   3       130   250        0      187      0     3    0\n",
       "4   41    0   2       130   204        2      172      0     3    0\n",
       "5   56    1   2       120   236        0      178      0     3    0\n",
       "6   62    0   4       140   268        2      160      0     3    3\n",
       "7   57    0   4       120   354        0      163      1     3    0\n",
       "8   63    1   4       130   254        2      147      0     7    2\n",
       "9   53    1   4       140   203        2      155      1     7    1"
      ]
     },
     "execution_count": 6,
     "metadata": {},
     "output_type": "execute_result"
    }
   ],
   "source": [
    "# trimming our data set\n",
    "data.drop(['years', 'famhist', 'cigs', 'fbs'],axis=1, inplace=True)\n",
    "data.head(10)"
   ]
  },
  {
   "cell_type": "markdown",
   "metadata": {},
   "source": [
    "Next, I look at outliers by using boxplots.  These plots, by lacking points outside of the candels, demonstrate what I predicted earlier, that outliers have been removed.  It appears that one outlier exists for CP, but that feature is categorical with 1 being a valid answer, there just is only one of them. This value hasn't been removed."
   ]
  },
  {
   "cell_type": "code",
   "execution_count": 7,
   "metadata": {},
   "outputs": [
    {
     "data": {
      "text/plain": [
       "age            AxesSubplot(0.125,0.657941;0.133621x0.222059)\n",
       "sex         AxesSubplot(0.285345,0.657941;0.133621x0.222059)\n",
       "cp           AxesSubplot(0.44569,0.657941;0.133621x0.222059)\n",
       "trestbps    AxesSubplot(0.606034,0.657941;0.133621x0.222059)\n",
       "chol        AxesSubplot(0.766379,0.657941;0.133621x0.222059)\n",
       "restecg        AxesSubplot(0.125,0.391471;0.133621x0.222059)\n",
       "thalach     AxesSubplot(0.285345,0.391471;0.133621x0.222059)\n",
       "exang        AxesSubplot(0.44569,0.391471;0.133621x0.222059)\n",
       "thal        AxesSubplot(0.606034,0.391471;0.133621x0.222059)\n",
       "num         AxesSubplot(0.766379,0.391471;0.133621x0.222059)\n",
       "dtype: object"
      ]
     },
     "execution_count": 7,
     "metadata": {},
     "output_type": "execute_result"
    },
    {
     "data": {
      "image/png": "[encoded data removed]",
      "text/plain": [
       "<Figure size 1080x720 with 15 Axes>"
      ]
     },
     "metadata": {},
     "output_type": "display_data"
    }
   ],
   "source": [
    "# Plot box plots\n",
    "# Source: https://pandas.pydata.org/docs/reference/api/pandas.DataFrame.plot.html\n",
    "data.plot(kind='box', subplots=True, layout=(3,5),\n",
    "sharex=False,sharey=False, figsize=(15, 10))"
   ]
  },
  {
   "cell_type": "markdown",
   "metadata": {},
   "source": [
    "### EDA Summary\n",
    "\n",
    "- 14 attributes with 282 entries.  No null cells.  All data is numerical.\n",
    "- Outliers, such as 99 cigarettes smoked per day, have been removed.\n",
    "- 'years', 'famhist','cigs','fbs' all have a low correlation with the target variable 'num', so they can be removed.\n",
    "- Boxplots confirm that outliers have been removed."
   ]
  },
  {
   "cell_type": "markdown",
   "metadata": {},
   "source": [
    "## Step 2: Divide data into training and test set and predict based on 1-nearest neighbor."
   ]
  },
  {
   "cell_type": "code",
   "execution_count": 8,
   "metadata": {},
   "outputs": [],
   "source": [
    "# Get list of column names\n",
    "cols = data.columns\n",
    "# Define target column\n",
    "target_col = 'num'\n",
    "# Add columns to feature columns as long as column is not target\n",
    "feat_cols = [c for c in cols if c != target_col]\n",
    "\n",
    "# separate features into X and target values into Y\n",
    "X = data[feat_cols].values\n",
    "Y = data[target_col].values\n",
    "\n",
    "# Source: Week 2 Lecture"
   ]
  },
  {
   "cell_type": "code",
   "execution_count": 9,
   "metadata": {},
   "outputs": [
    {
     "name": "stdout",
     "output_type": "stream",
     "text": [
      "(225, 9)\n",
      "(57, 9)\n",
      "(225,)\n",
      "(57,)\n"
     ]
    }
   ],
   "source": [
    "# Split data into train and test sets.  Use 80-20 ratio of train to test.\n",
    "X_train, X_test, y_train, y_test = train_test_split(X, Y, test_size=0.2, random_state=42)\n",
    "\n",
    "print(X_train.shape)\n",
    "print(X_test.shape)\n",
    "print(y_train.shape)\n",
    "print(y_test.shape)\n",
    "\n",
    "# Source: Week 2 Lecture"
   ]
  },
  {
   "cell_type": "code",
   "execution_count": 10,
   "metadata": {},
   "outputs": [
    {
     "name": "stdout",
     "output_type": "stream",
     "text": [
      "R-squared:  -0.1974050046339202\n",
      "Accuracy:  0.3508771929824561\n"
     ]
    }
   ],
   "source": [
    "# define and fit our model with 1-nearest neighbor\n",
    "# model used is KNeighborsClassifier\n",
    "\n",
    "# Source: https://scikit-learn.org/stable/modules/generated/sklearn.neighbors.KNeighborsClassifier.html\n",
    "model = KNeighborsClassifier(n_neighbors=1, n_jobs=-1)\n",
    "model.fit(X_train, y_train)\n",
    "\n",
    "# gather the predictations that our model made for our test set\n",
    "preds = model.predict(X_test)\n",
    "\n",
    "# EValuate Model\n",
    "# Source: Week 2 Lecture and https://stackoverflow.com/questions/15821116/how-to-measure-the-accuracy-of-knn-classifier-in-python\n",
    "from sklearn.metrics import accuracy_score\n",
    "from sklearn.metrics import r2_score\n",
    "\n",
    "print('R-squared: ',r2_score(y_test,preds))\n",
    "\n",
    "print('Accuracy: ',accuracy_score(y_test, preds))\n"
   ]
  },
  {
   "cell_type": "markdown",
   "metadata": {},
   "source": [
    "The negative R-Squared shows that the model fits the data very poorly, and that an arbitrary horizontal line would do a better job of classification.\n",
    "\n",
    "The accuracy score of 35% means that 35% of predictions were right.  This implies an error rate of 65%.\n",
    "\n",
    "Reference to R-Squared:\n",
    "https://stats.stackexchange.com/questions/183265/what-does-negative-r-squared-mean"
   ]
  },
  {
   "cell_type": "code",
   "execution_count": 11,
   "metadata": {},
   "outputs": [
    {
     "data": {
      "text/plain": [
       "array([[19,  6,  2,  2,  0],\n",
       "       [ 8,  0,  0,  1,  0],\n",
       "       [ 1,  2,  0,  2,  0],\n",
       "       [ 3,  2,  3,  0,  1],\n",
       "       [ 2,  1,  1,  0,  1]], dtype=int64)"
      ]
     },
     "execution_count": 11,
     "metadata": {},
     "output_type": "execute_result"
    }
   ],
   "source": [
    "# Create Confusion matrix from resluts\n",
    "#Source: https://scikit-learn.org/stable/modules/generated/sklearn.metrics.confusion_matrix.html\n",
    "from sklearn.metrics import confusion_matrix\n",
    "confusion_matrix(y_test, preds)"
   ]
  },
  {
   "cell_type": "markdown",
   "metadata": {},
   "source": [
    "The confusion matrix shows what data values are classified as vs. what they actually are.\n",
    "\n",
    "Rules of thumb for reading the matrix are:\n",
    "- X axis labels: What They Are\n",
    "- Y axis lables: What They Were classified as\n",
    "\n",
    "In this dataset, the classes are 0, 1, 2, 3, and 4.\n",
    "\n",
    "So, for example, the top row of the confusion matrix shows that:\n",
    "- 19 0s were classified as 0s\n",
    "- 6 1s were classified as 0s\n",
    "- 2 2s were classified as 0s\n",
    "- 2 3s were classified as 0s\n",
    "- 0 4s were classified as 0s\n",
    "\n",
    "And so on down the list.  This model did not do very well, evidenced by the 35% Accuracy rate (65% error rate).  Also, 19 0s were classified correctly, but only one other datapoint was classified correctly - one 4 was classified as a 4. This is how the accuracy rate is calculated: 20 correct predictions out of 57 total predictions made = 35%.\n",
    "\n",
    "Reference To Understand Confusion Matrix:\n",
    "https://machinelearningmastery.com/confusion-matrix-machine-learning/"
   ]
  },
  {
   "cell_type": "markdown",
   "metadata": {},
   "source": [
    "## Step 3: Find optimal value for K"
   ]
  },
  {
   "cell_type": "markdown",
   "metadata": {},
   "source": [
    "* Use different values for K, what is the optimal value of K from your experiments? Report the error rate of the optimal K value and its confusion matrix. Is there any improvement (by how much) over 1-nearest neighbor?"
   ]
  },
  {
   "cell_type": "code",
   "execution_count": 114,
   "metadata": {},
   "outputs": [
    {
     "name": "stdout",
     "output_type": "stream",
     "text": [
      "Evaluating 2 clusters\n",
      "Evaluating 3 clusters\n",
      "Evaluating 4 clusters\n",
      "Evaluating 5 clusters\n",
      "Evaluating 6 clusters\n",
      "Evaluating 7 clusters\n",
      "Evaluating 8 clusters\n",
      "Evaluating 9 clusters\n",
      "Evaluating 10 clusters\n",
      "Evaluating 11 clusters\n",
      "Evaluating 12 clusters\n",
      "Evaluating 13 clusters\n",
      "Evaluating 14 clusters\n",
      "Evaluating 15 clusters\n",
      "Evaluating 16 clusters\n",
      "Evaluating 17 clusters\n",
      "Evaluating 18 clusters\n",
      "Evaluating 19 clusters\n"
     ]
    },
    {
     "data": {
      "text/plain": [
       "[0.38596491228070173,\n",
       " 0.43859649122807015,\n",
       " 0.43859649122807015,\n",
       " 0.47368421052631576,\n",
       " 0.45614035087719296,\n",
       " 0.47368421052631576,\n",
       " 0.45614035087719296,\n",
       " 0.49122807017543857,\n",
       " 0.49122807017543857,\n",
       " 0.47368421052631576,\n",
       " 0.47368421052631576,\n",
       " 0.49122807017543857,\n",
       " 0.49122807017543857,\n",
       " 0.5087719298245614,\n",
       " 0.5087719298245614,\n",
       " 0.5087719298245614,\n",
       " 0.5087719298245614,\n",
       " 0.5087719298245614]"
      ]
     },
     "execution_count": 114,
     "metadata": {},
     "output_type": "execute_result"
    }
   ],
   "source": [
    "scores = []\n",
    "\n",
    "for k in range(2, 20):\n",
    "    # output to let us know where we are\n",
    "    print(f'Evaluating {k} clusters')\n",
    "    \n",
    "    # n_jobs=-1 will use all processors on your system\n",
    "    model = KNeighborsClassifier(n_neighbors=k, n_jobs=-1)\n",
    "    model.fit(X_train, y_train)\n",
    "    preds = model.predict(X_test)\n",
    "    scores.append(accuracy_score(y_test, preds))\n",
    "    \n",
    "scores\n",
    "\n",
    "#Source: Week 2 Lecture (With personal modifications)"
   ]
  },
  {
   "cell_type": "code",
   "execution_count": 115,
   "metadata": {},
   "outputs": [
    {
     "data": {
      "image/png": "[encoded data removed]",
      "text/plain": [
       "<Figure size 432x288 with 1 Axes>"
      ]
     },
     "metadata": {},
     "output_type": "display_data"
    }
   ],
   "source": [
    "# display the resutls\n",
    "plt.plot(range(2, 20), scores)\n",
    "plt.scatter(range(2, 20), scores)\n",
    "plt.grid()\n",
    "_ =plt.xticks(range(2, 20))\n",
    "\n",
    "#Source: Week 2 Lecture"
   ]
  },
  {
   "cell_type": "markdown",
   "metadata": {},
   "source": [
    "Running the model with a range of nearest-neighbors from 2 to 19, it appears that the accuracy score pleateaus when k=15.  This will be the optimal value going forward.  \n",
    "\n",
    "I run the model and show the confusion matrix for this optimal state below."
   ]
  },
  {
   "cell_type": "code",
   "execution_count": 116,
   "metadata": {},
   "outputs": [
    {
     "name": "stdout",
     "output_type": "stream",
     "text": [
      "R-squared:  -0.3999073215940683\n",
      "Accuracy:  0.5087719298245614\n"
     ]
    }
   ],
   "source": [
    "# Build model with 15 nearest_neighbors\n",
    "model = KNeighborsClassifier(n_neighbors=15, n_jobs=-1)\n",
    "model.fit(X_train, y_train)\n",
    "\n",
    "# gather the predictations that our model made for our test set\n",
    "preds = model.predict(X_test)\n",
    "\n",
    "print('R-squared: ',r2_score(y_test,preds))\n",
    "print('Accuracy: ',accuracy_score(y_test, preds))"
   ]
  },
  {
   "cell_type": "code",
   "execution_count": 117,
   "metadata": {},
   "outputs": [
    {
     "data": {
      "text/plain": [
       "array([[29,  0,  0,  0,  0],\n",
       "       [ 9,  0,  0,  0,  0],\n",
       "       [ 4,  1,  0,  0,  0],\n",
       "       [ 6,  1,  2,  0,  0],\n",
       "       [ 4,  1,  0,  0,  0]], dtype=int64)"
      ]
     },
     "execution_count": 117,
     "metadata": {},
     "output_type": "execute_result"
    }
   ],
   "source": [
    "confusion_matrix(y_test, preds)"
   ]
  },
  {
   "cell_type": "markdown",
   "metadata": {},
   "source": [
    "The confusion matrix shows a higher number of accurate predictions, with 29.  However, all 29 belong to the 0 class.  No other class had any correct predictions.  This is possibly why the R-Squared of -.40 was even more negative than the baseline model above.  The accuracy improved to around 51% from 35%, but is barely better than a random guess each time.  I will try to improve the model below."
   ]
  },
  {
   "cell_type": "markdown",
   "metadata": {},
   "source": [
    "## Step 4: Attempt to improve model"
   ]
  },
  {
   "cell_type": "markdown",
   "metadata": {},
   "source": [
    "### Data Normalization by Feature Scaling\n",
    "\n",
    "Feature scaling is important so that features with different measurements can be compared in an apples-to-apples manner.  The MinMaxScaler() makes feature scaling straightforward.\n",
    "\n",
    "However, some of the categorical variables do not need to be scaled.  These features include 'cp', 'restecg', and 'thal'. For these features, I scale the whole dataset and then remove just these features, and replace them with their original, non-scaled values. \n",
    "\n",
    "Other categorical variables are binary and are represented the same before and after feature scaling, so I do not remove the scaled versions and replace them with the originals."
   ]
  },
  {
   "cell_type": "code",
   "execution_count": 16,
   "metadata": {},
   "outputs": [
    {
     "data": {
      "text/html": [
       "<div>\n",
       "<style scoped>\n",
       "    .dataframe tbody tr th:only-of-type {\n",
       "        vertical-align: middle;\n",
       "    }\n",
       "\n",
       "    .dataframe tbody tr th {\n",
       "        vertical-align: top;\n",
       "    }\n",
       "\n",
       "    .dataframe thead th {\n",
       "        text-align: right;\n",
       "    }\n",
       "</style>\n",
       "<table border=\"1\" class=\"dataframe\">\n",
       "  <thead>\n",
       "    <tr style=\"text-align: right;\">\n",
       "      <th></th>\n",
       "      <th>age</th>\n",
       "      <th>sex</th>\n",
       "      <th>trestbps</th>\n",
       "      <th>chol</th>\n",
       "      <th>thalach</th>\n",
       "      <th>exang</th>\n",
       "      <th>cp</th>\n",
       "      <th>restecg</th>\n",
       "      <th>thal</th>\n",
       "    </tr>\n",
       "  </thead>\n",
       "  <tbody>\n",
       "    <tr>\n",
       "      <th>0</th>\n",
       "      <td>0.458333</td>\n",
       "      <td>1.0</td>\n",
       "      <td>0.407895</td>\n",
       "      <td>0.508547</td>\n",
       "      <td>0.684211</td>\n",
       "      <td>0.0</td>\n",
       "      <td>3</td>\n",
       "      <td>2</td>\n",
       "      <td>3</td>\n",
       "    </tr>\n",
       "    <tr>\n",
       "      <th>1</th>\n",
       "      <td>0.687500</td>\n",
       "      <td>0.0</td>\n",
       "      <td>0.578947</td>\n",
       "      <td>0.717949</td>\n",
       "      <td>0.157895</td>\n",
       "      <td>0.0</td>\n",
       "      <td>4</td>\n",
       "      <td>0</td>\n",
       "      <td>3</td>\n",
       "    </tr>\n",
       "    <tr>\n",
       "      <th>2</th>\n",
       "      <td>0.416667</td>\n",
       "      <td>1.0</td>\n",
       "      <td>0.473684</td>\n",
       "      <td>0.598291</td>\n",
       "      <td>0.728070</td>\n",
       "      <td>0.0</td>\n",
       "      <td>2</td>\n",
       "      <td>0</td>\n",
       "      <td>3</td>\n",
       "    </tr>\n",
       "    <tr>\n",
       "      <th>3</th>\n",
       "      <td>0.812500</td>\n",
       "      <td>1.0</td>\n",
       "      <td>0.315789</td>\n",
       "      <td>0.645299</td>\n",
       "      <td>0.552632</td>\n",
       "      <td>0.0</td>\n",
       "      <td>3</td>\n",
       "      <td>0</td>\n",
       "      <td>7</td>\n",
       "    </tr>\n",
       "    <tr>\n",
       "      <th>4</th>\n",
       "      <td>0.625000</td>\n",
       "      <td>1.0</td>\n",
       "      <td>0.605263</td>\n",
       "      <td>0.405983</td>\n",
       "      <td>0.666667</td>\n",
       "      <td>1.0</td>\n",
       "      <td>2</td>\n",
       "      <td>0</td>\n",
       "      <td>3</td>\n",
       "    </tr>\n",
       "  </tbody>\n",
       "</table>\n",
       "</div>"
      ],
      "text/plain": [
       "        age  sex  trestbps      chol   thalach  exang  cp  restecg  thal\n",
       "0  0.458333  1.0  0.407895  0.508547  0.684211    0.0   3        2     3\n",
       "1  0.687500  0.0  0.578947  0.717949  0.157895    0.0   4        0     3\n",
       "2  0.416667  1.0  0.473684  0.598291  0.728070    0.0   2        0     3\n",
       "3  0.812500  1.0  0.315789  0.645299  0.552632    0.0   3        0     7\n",
       "4  0.625000  1.0  0.605263  0.405983  0.666667    1.0   2        0     3"
      ]
     },
     "execution_count": 16,
     "metadata": {},
     "output_type": "execute_result"
    }
   ],
   "source": [
    "from sklearn import preprocessing\n",
    "\n",
    "# Load in the scaler\n",
    "min_max_scaler = preprocessing.MinMaxScaler()\n",
    "\n",
    "# normalize X_train and X_test\n",
    "X_tr_norm = min_max_scaler.fit_transform(X_train)\n",
    "#only fit the scaler to the train data, and then transform the test data to those parameters (per Raschka, 2019)\n",
    "X_te_norm = min_max_scaler.transform(X_test) \n",
    "\n",
    "#reconstruct train and test sets\n",
    "norm_data_tr = pd.DataFrame(X_tr_norm,columns=feat_cols)\n",
    "norm_data_te = pd.DataFrame(X_te_norm,columns=feat_cols)\n",
    "\n",
    "# Conver the numpy array into a pandas DataFrame\n",
    "X_train_df = pd.DataFrame(X_train, columns=feat_cols)\n",
    "X_test_df = pd.DataFrame(X_test, columns=feat_cols)\n",
    "\n",
    "# Remove the normalized features that are categorical and should not be scaled\n",
    "norm_data_tr.drop(['cp', 'restecg', 'thal'],axis=1, inplace=True)\n",
    "norm_data_te.drop(['cp', 'restecg', 'thal'],axis=1, inplace=True)\n",
    "\n",
    "# Add in the non-scaled, original categorical features\n",
    "norm_data_tr['cp'] = X_train_df['cp']\n",
    "norm_data_te['cp'] = X_test_df['cp']\n",
    "\n",
    "norm_data_tr['restecg'] = X_train_df['restecg']\n",
    "norm_data_te['restecg'] = X_test_df['restecg']\n",
    "\n",
    "norm_data_tr['thal'] = X_train_df['thal']\n",
    "norm_data_te['thal'] = X_test_df['thal']\n",
    "\n",
    "norm_data_tr.head()\n",
    "\n",
    "\n",
    "# Source: Week 2 Lecture"
   ]
  },
  {
   "cell_type": "markdown",
   "metadata": {},
   "source": [
    "Now that the data is scaled, I can find Optimal K value and then run the model with that number for k."
   ]
  },
  {
   "cell_type": "code",
   "execution_count": 17,
   "metadata": {},
   "outputs": [
    {
     "name": "stdout",
     "output_type": "stream",
     "text": [
      "Evaluating 2 clusters\n",
      "Evaluating 3 clusters\n",
      "Evaluating 4 clusters\n",
      "Evaluating 5 clusters\n",
      "Evaluating 6 clusters\n",
      "Evaluating 7 clusters\n",
      "Evaluating 8 clusters\n",
      "Evaluating 9 clusters\n",
      "Evaluating 10 clusters\n",
      "Evaluating 11 clusters\n",
      "Evaluating 12 clusters\n",
      "Evaluating 13 clusters\n",
      "Evaluating 14 clusters\n",
      "Evaluating 15 clusters\n",
      "Evaluating 16 clusters\n",
      "Evaluating 17 clusters\n",
      "Evaluating 18 clusters\n",
      "Evaluating 19 clusters\n"
     ]
    },
    {
     "data": {
      "text/plain": [
       "[0.49122807017543857,\n",
       " 0.5087719298245614,\n",
       " 0.5263157894736842,\n",
       " 0.5087719298245614,\n",
       " 0.5263157894736842,\n",
       " 0.5263157894736842,\n",
       " 0.5263157894736842,\n",
       " 0.5263157894736842,\n",
       " 0.5263157894736842,\n",
       " 0.5087719298245614,\n",
       " 0.5263157894736842,\n",
       " 0.5263157894736842,\n",
       " 0.5263157894736842,\n",
       " 0.5263157894736842,\n",
       " 0.5263157894736842,\n",
       " 0.5263157894736842,\n",
       " 0.49122807017543857,\n",
       " 0.47368421052631576]"
      ]
     },
     "execution_count": 17,
     "metadata": {},
     "output_type": "execute_result"
    }
   ],
   "source": [
    "scores = []\n",
    "\n",
    "for k in range(2, 20):\n",
    "    # output to let us know where we are\n",
    "    print(f'Evaluating {k} clusters')\n",
    "    \n",
    "    # n_jobs=-1 will use all processors on your system\n",
    "    model = KNeighborsClassifier(n_neighbors=k, n_jobs=-1)\n",
    "    model.fit(norm_data_tr, y_train)\n",
    "    preds = model.predict(norm_data_te)\n",
    "    scores.append(accuracy_score(y_test, preds))\n",
    "    \n",
    "scores"
   ]
  },
  {
   "cell_type": "code",
   "execution_count": 18,
   "metadata": {},
   "outputs": [
    {
     "data": {
      "image/png": "[encoded data removed]",
      "text/plain": [
       "<Figure size 432x288 with 1 Axes>"
      ]
     },
     "metadata": {},
     "output_type": "display_data"
    }
   ],
   "source": [
    "# display the resutls\n",
    "plt.plot(range(2, 20), scores)\n",
    "plt.scatter(range(2, 20), scores)\n",
    "plt.grid()\n",
    "_ =plt.xticks(range(2, 20))\n",
    "\n",
    "#Source: Week 2 Lecture"
   ]
  },
  {
   "cell_type": "markdown",
   "metadata": {},
   "source": [
    "A k value of 4 gets the highest score.  I will use that below."
   ]
  },
  {
   "cell_type": "code",
   "execution_count": 19,
   "metadata": {},
   "outputs": [
    {
     "name": "stdout",
     "output_type": "stream",
     "text": [
      "R-squared:  -0.1269694161260424\n",
      "Accuracy:  0.5263157894736842\n"
     ]
    }
   ],
   "source": [
    "# Build model with 4 nearest_neighbors\n",
    "model = KNeighborsClassifier(n_neighbors=4, n_jobs=-1)\n",
    "model.fit(norm_data_tr, y_train)\n",
    "\n",
    "# gather the predictations that our model made for our test set\n",
    "preds = model.predict(norm_data_te)\n",
    "\n",
    "print('R-squared: ',r2_score(y_test,preds))\n",
    "print('Accuracy: ',accuracy_score(y_test, preds))"
   ]
  },
  {
   "cell_type": "code",
   "execution_count": 20,
   "metadata": {},
   "outputs": [
    {
     "data": {
      "text/plain": [
       "array([[26,  1,  1,  0,  1],\n",
       "       [ 4,  2,  0,  3,  0],\n",
       "       [ 0,  2,  1,  2,  0],\n",
       "       [ 3,  3,  2,  1,  0],\n",
       "       [ 2,  1,  1,  1,  0]], dtype=int64)"
      ]
     },
     "execution_count": 20,
     "metadata": {},
     "output_type": "execute_result"
    }
   ],
   "source": [
    "confusion_matrix(y_test, preds)"
   ]
  },
  {
   "cell_type": "markdown",
   "metadata": {},
   "source": [
    "Data normalization helped improve the model to 52% from 50% and the R-squared improved substantially to -0.12 from -.40.  The confusion matrix shows that 0s are still the most correctly classified.  However, other classes are now classified correctly."
   ]
  },
  {
   "cell_type": "markdown",
   "metadata": {},
   "source": [
    "### Keeping all the data instead of dropping low correlated attributes\n",
    "\n",
    "In another attempt to improve my model, I omit the step were I drop lowly correlated features from the dataset.  Perhaps the model can find some signal in these features, and the dataset isn't too large so that any increase in comuting time will be worth potential improved accuracy.  That is, if the increased time is even perceptible.  \n",
    "\n",
    "The steps below are similar to above besides dropping features."
   ]
  },
  {
   "cell_type": "code",
   "execution_count": 21,
   "metadata": {},
   "outputs": [
    {
     "name": "stdout",
     "output_type": "stream",
     "text": [
      "(225, 13)\n",
      "(57, 13)\n",
      "(225,)\n",
      "(57,)\n"
     ]
    }
   ],
   "source": [
    "data = pd.read_csv('heart.disease.data.clean.csv')\n",
    "data.head(10)\n",
    "\n",
    "# Get list of column names\n",
    "cols = data.columns\n",
    "# Define target column\n",
    "target_col = 'num'\n",
    "# Add columns to feature columns as long as column is not target\n",
    "feat_cols = [c for c in cols if c != target_col]\n",
    "\n",
    "# separate features into X and target values into Y\n",
    "X = data[feat_cols].values\n",
    "Y = data[target_col].values\n",
    "\n",
    "# Split data into train and test sets.  Use 80-20 ratio of train to test.\n",
    "X_train, X_test, y_train, y_test = train_test_split(X, Y, test_size=0.2, random_state=42)\n",
    "\n",
    "print(X_train.shape)\n",
    "print(X_test.shape)\n",
    "print(y_train.shape)\n",
    "print(y_test.shape)"
   ]
  },
  {
   "cell_type": "code",
   "execution_count": 22,
   "metadata": {},
   "outputs": [
    {
     "data": {
      "text/html": [
       "<div>\n",
       "<style scoped>\n",
       "    .dataframe tbody tr th:only-of-type {\n",
       "        vertical-align: middle;\n",
       "    }\n",
       "\n",
       "    .dataframe tbody tr th {\n",
       "        vertical-align: top;\n",
       "    }\n",
       "\n",
       "    .dataframe thead th {\n",
       "        text-align: right;\n",
       "    }\n",
       "</style>\n",
       "<table border=\"1\" class=\"dataframe\">\n",
       "  <thead>\n",
       "    <tr style=\"text-align: right;\">\n",
       "      <th></th>\n",
       "      <th>age</th>\n",
       "      <th>sex</th>\n",
       "      <th>trestbps</th>\n",
       "      <th>chol</th>\n",
       "      <th>cigs</th>\n",
       "      <th>years</th>\n",
       "      <th>fbs</th>\n",
       "      <th>famhist</th>\n",
       "      <th>thalach</th>\n",
       "      <th>exang</th>\n",
       "      <th>cp</th>\n",
       "      <th>restecg</th>\n",
       "      <th>thal</th>\n",
       "    </tr>\n",
       "  </thead>\n",
       "  <tbody>\n",
       "    <tr>\n",
       "      <th>0</th>\n",
       "      <td>0.458333</td>\n",
       "      <td>1.0</td>\n",
       "      <td>0.407895</td>\n",
       "      <td>0.508547</td>\n",
       "      <td>0.000000</td>\n",
       "      <td>0.000000</td>\n",
       "      <td>1.0</td>\n",
       "      <td>0.0</td>\n",
       "      <td>0.684211</td>\n",
       "      <td>0.0</td>\n",
       "      <td>3.0</td>\n",
       "      <td>2.0</td>\n",
       "      <td>3.0</td>\n",
       "    </tr>\n",
       "    <tr>\n",
       "      <th>1</th>\n",
       "      <td>0.687500</td>\n",
       "      <td>0.0</td>\n",
       "      <td>0.578947</td>\n",
       "      <td>0.717949</td>\n",
       "      <td>0.266667</td>\n",
       "      <td>0.500000</td>\n",
       "      <td>1.0</td>\n",
       "      <td>1.0</td>\n",
       "      <td>0.157895</td>\n",
       "      <td>0.0</td>\n",
       "      <td>4.0</td>\n",
       "      <td>0.0</td>\n",
       "      <td>3.0</td>\n",
       "    </tr>\n",
       "    <tr>\n",
       "      <th>2</th>\n",
       "      <td>0.416667</td>\n",
       "      <td>1.0</td>\n",
       "      <td>0.473684</td>\n",
       "      <td>0.598291</td>\n",
       "      <td>0.333333</td>\n",
       "      <td>0.440000</td>\n",
       "      <td>0.0</td>\n",
       "      <td>0.0</td>\n",
       "      <td>0.728070</td>\n",
       "      <td>0.0</td>\n",
       "      <td>2.0</td>\n",
       "      <td>0.0</td>\n",
       "      <td>3.0</td>\n",
       "    </tr>\n",
       "    <tr>\n",
       "      <th>3</th>\n",
       "      <td>0.812500</td>\n",
       "      <td>1.0</td>\n",
       "      <td>0.315789</td>\n",
       "      <td>0.645299</td>\n",
       "      <td>0.026667</td>\n",
       "      <td>0.478785</td>\n",
       "      <td>0.0</td>\n",
       "      <td>0.0</td>\n",
       "      <td>0.552632</td>\n",
       "      <td>0.0</td>\n",
       "      <td>3.0</td>\n",
       "      <td>0.0</td>\n",
       "      <td>7.0</td>\n",
       "    </tr>\n",
       "    <tr>\n",
       "      <th>4</th>\n",
       "      <td>0.625000</td>\n",
       "      <td>1.0</td>\n",
       "      <td>0.605263</td>\n",
       "      <td>0.405983</td>\n",
       "      <td>0.266667</td>\n",
       "      <td>0.800000</td>\n",
       "      <td>0.0</td>\n",
       "      <td>1.0</td>\n",
       "      <td>0.666667</td>\n",
       "      <td>1.0</td>\n",
       "      <td>2.0</td>\n",
       "      <td>0.0</td>\n",
       "      <td>3.0</td>\n",
       "    </tr>\n",
       "  </tbody>\n",
       "</table>\n",
       "</div>"
      ],
      "text/plain": [
       "        age  sex  trestbps      chol      cigs     years  fbs  famhist  \\\n",
       "0  0.458333  1.0  0.407895  0.508547  0.000000  0.000000  1.0      0.0   \n",
       "1  0.687500  0.0  0.578947  0.717949  0.266667  0.500000  1.0      1.0   \n",
       "2  0.416667  1.0  0.473684  0.598291  0.333333  0.440000  0.0      0.0   \n",
       "3  0.812500  1.0  0.315789  0.645299  0.026667  0.478785  0.0      0.0   \n",
       "4  0.625000  1.0  0.605263  0.405983  0.266667  0.800000  0.0      1.0   \n",
       "\n",
       "    thalach  exang   cp  restecg  thal  \n",
       "0  0.684211    0.0  3.0      2.0   3.0  \n",
       "1  0.157895    0.0  4.0      0.0   3.0  \n",
       "2  0.728070    0.0  2.0      0.0   3.0  \n",
       "3  0.552632    0.0  3.0      0.0   7.0  \n",
       "4  0.666667    1.0  2.0      0.0   3.0  "
      ]
     },
     "execution_count": 22,
     "metadata": {},
     "output_type": "execute_result"
    }
   ],
   "source": [
    "# Load in the scaler\n",
    "min_max_scaler = preprocessing.MinMaxScaler()\n",
    "\n",
    "# normalize X_train and X_test\n",
    "X_tr_norm = min_max_scaler.fit_transform(X_train)\n",
    "#only fit the scaler to the train data, and then transform the test data to those parameters (per Raschka, 2019)\n",
    "X_te_norm = min_max_scaler.transform(X_test) \n",
    "\n",
    "#reconstruct train and test sets\n",
    "norm_data_tr = pd.DataFrame(X_tr_norm,columns=feat_cols)\n",
    "norm_data_te = pd.DataFrame(X_te_norm,columns=feat_cols)\n",
    "\n",
    "# Conver the numpy array into a pandas DataFrame\n",
    "X_train_df = pd.DataFrame(X_train, columns=feat_cols)\n",
    "X_test_df = pd.DataFrame(X_test, columns=feat_cols)\n",
    "\n",
    "# Remove the normalized features that are categorical and should not be scaled\n",
    "norm_data_tr.drop(['cp', 'restecg', 'thal'],axis=1, inplace=True)\n",
    "norm_data_te.drop(['cp', 'restecg', 'thal'],axis=1, inplace=True)\n",
    "\n",
    "# Add in the non-scaled, original categorical features\n",
    "norm_data_tr['cp'] = X_train_df['cp']\n",
    "norm_data_te['cp'] = X_test_df['cp']\n",
    "\n",
    "norm_data_tr['restecg'] = X_train_df['restecg']\n",
    "norm_data_te['restecg'] = X_test_df['restecg']\n",
    "\n",
    "norm_data_tr['thal'] = X_train_df['thal']\n",
    "norm_data_te['thal'] = X_test_df['thal']\n",
    "\n",
    "norm_data_tr.head()"
   ]
  },
  {
   "cell_type": "code",
   "execution_count": 23,
   "metadata": {},
   "outputs": [
    {
     "name": "stdout",
     "output_type": "stream",
     "text": [
      "Evaluating 2 clusters\n",
      "Evaluating 3 clusters\n",
      "Evaluating 4 clusters\n",
      "Evaluating 5 clusters\n",
      "Evaluating 6 clusters\n",
      "Evaluating 7 clusters\n",
      "Evaluating 8 clusters\n",
      "Evaluating 9 clusters\n",
      "Evaluating 10 clusters\n",
      "Evaluating 11 clusters\n",
      "Evaluating 12 clusters\n",
      "Evaluating 13 clusters\n",
      "Evaluating 14 clusters\n",
      "Evaluating 15 clusters\n",
      "Evaluating 16 clusters\n",
      "Evaluating 17 clusters\n",
      "Evaluating 18 clusters\n",
      "Evaluating 19 clusters\n"
     ]
    },
    {
     "data": {
      "text/plain": [
       "[0.5614035087719298,\n",
       " 0.5789473684210527,\n",
       " 0.5263157894736842,\n",
       " 0.5087719298245614,\n",
       " 0.543859649122807,\n",
       " 0.543859649122807,\n",
       " 0.543859649122807,\n",
       " 0.5263157894736842,\n",
       " 0.5087719298245614,\n",
       " 0.49122807017543857,\n",
       " 0.49122807017543857,\n",
       " 0.49122807017543857,\n",
       " 0.5263157894736842,\n",
       " 0.5087719298245614,\n",
       " 0.5087719298245614,\n",
       " 0.49122807017543857,\n",
       " 0.49122807017543857,\n",
       " 0.49122807017543857]"
      ]
     },
     "execution_count": 23,
     "metadata": {},
     "output_type": "execute_result"
    }
   ],
   "source": [
    "scores = []\n",
    "\n",
    "for k in range(2, 20):\n",
    "    # output to let us know where we are\n",
    "    print(f'Evaluating {k} clusters')\n",
    "    \n",
    "    # n_jobs=-1 will use all processors on your system\n",
    "    model = KNeighborsClassifier(n_neighbors=k, n_jobs=-1)\n",
    "    model.fit(norm_data_tr, y_train)\n",
    "    preds = model.predict(norm_data_te)\n",
    "    scores.append(accuracy_score(y_test, preds))\n",
    "    \n",
    "scores"
   ]
  },
  {
   "cell_type": "code",
   "execution_count": 24,
   "metadata": {},
   "outputs": [
    {
     "data": {
      "image/png": "[encoded data removed]",
      "text/plain": [
       "<Figure size 432x288 with 1 Axes>"
      ]
     },
     "metadata": {},
     "output_type": "display_data"
    }
   ],
   "source": [
    "# display the resutls\n",
    "plt.plot(range(2, 20), scores)\n",
    "plt.scatter(range(2, 20), scores)\n",
    "plt.grid()\n",
    "_ =plt.xticks(range(2, 20))\n",
    "\n",
    "#Source: Week 2 Lecture"
   ]
  },
  {
   "cell_type": "markdown",
   "metadata": {},
   "source": [
    "A value of 3 for k will get the most accurate result, according to the test and the graph above.  I will use that in fitting the model for the final output."
   ]
  },
  {
   "cell_type": "code",
   "execution_count": 25,
   "metadata": {},
   "outputs": [
    {
     "name": "stdout",
     "output_type": "stream",
     "text": [
      "R-squared:  -0.030120481927710774\n",
      "Accuracy:  0.5789473684210527\n"
     ]
    }
   ],
   "source": [
    "# Build model with 3 nearest_neighbors\n",
    "model = KNeighborsClassifier(n_neighbors=3, n_jobs=-1)\n",
    "model.fit(norm_data_tr, y_train)\n",
    "\n",
    "# gather the predictations that our model made for our test set\n",
    "preds = model.predict(norm_data_te)\n",
    "\n",
    "print('R-squared: ',r2_score(y_test,preds))\n",
    "print('Accuracy: ',accuracy_score(y_test, preds))"
   ]
  },
  {
   "cell_type": "code",
   "execution_count": 26,
   "metadata": {},
   "outputs": [
    {
     "data": {
      "text/plain": [
       "array([[27,  1,  0,  0,  1],\n",
       "       [ 5,  3,  0,  1,  0],\n",
       "       [ 0,  4,  1,  0,  0],\n",
       "       [ 2,  2,  3,  2,  0],\n",
       "       [ 3,  1,  0,  1,  0]], dtype=int64)"
      ]
     },
     "execution_count": 26,
     "metadata": {},
     "output_type": "execute_result"
    }
   ],
   "source": [
    "confusion_matrix(y_test, preds)"
   ]
  },
  {
   "cell_type": "markdown",
   "metadata": {},
   "source": [
    "Keeping all data features instead of dropping low correlated ones, helped improve the accuracy fairly well (to 58% from 52%) and the R-score (from -0.12 to -0.03), indicating that the model still isn't fitting the data that well. The confusion matrix shows that 0s are still classified correctly more than any of the other options.  And similar to the prior model, some other classes are being classified correctly, but not at a high rate."
   ]
  },
  {
   "cell_type": "markdown",
   "metadata": {},
   "source": [
    "### Classifying a 0 or 1\n",
    "\n",
    "The UCI website mentions that the attribute we are trying to predict ('num') is binary, with value 0 for < 50% diameter narrowing and 1 for > 50% diameter narrowing.  However, our test data lists a range of possible values (0,1,2,3) for 'num', which I assume to be advancing degrees of diameter narrowing.  I have been attempting to classify instances into these various values thus far.  However, if I only want the model to classify greater than or less than 50% diameter narrowing like the dataset website mentions, I can change the 2 and 3 values for 'num' to be 1s.  In doing this, I am assuming that 2 and 3 are just increasing degrees of diameter narrowing, and since they are greater  than 1, then I assume that they are also greater than 50%, and can therefore be seen as similar to 1 and different than 0.  \n",
    "\n",
    "So below, I change the prediction problem into binary, by making the y_labels either 0 or 1.  The model's accuracy improves significantly.  See below for importing the data, editing the Y_labels as a binary problem, splitting the data, normalizing it, and then fitting the model."
   ]
  },
  {
   "cell_type": "code",
   "execution_count": 27,
   "metadata": {},
   "outputs": [],
   "source": [
    "data = pd.read_csv('heart.disease.data.clean.csv')\n",
    "data.head(10)\n",
    "\n",
    "# Get list of column names\n",
    "cols = data.columns\n",
    "# Define target column\n",
    "target_col = 'num'\n",
    "# Add columns to feature columns as long as column is not target\n",
    "feat_cols = [c for c in cols if c != target_col]\n",
    "\n",
    "# separate features into X and target values into Y\n",
    "X = data[feat_cols].values\n",
    "Y = data[target_col].values"
   ]
  },
  {
   "cell_type": "code",
   "execution_count": 28,
   "metadata": {},
   "outputs": [],
   "source": [
    "# this step uses list comprehension to change the labels to be either 0 or 1, depending on the criteria that  \n",
    "# 0s stay 0, and everything else becomes a 1.\n",
    "import numpy as np\n",
    "Y = [0 if i==0 else 1 for i in Y]\n",
    "Y = np.array(Y)"
   ]
  },
  {
   "cell_type": "code",
   "execution_count": 29,
   "metadata": {},
   "outputs": [
    {
     "name": "stdout",
     "output_type": "stream",
     "text": [
      "(225, 13)\n",
      "(57, 13)\n",
      "(225,)\n",
      "(57,)\n"
     ]
    }
   ],
   "source": [
    "# Split data into train and test sets.  Use 80-20 ratio of train to test.\n",
    "X_train, X_test, y_train, y_test = train_test_split(X, Y, test_size=0.2, random_state=42)\n",
    "\n",
    "print(X_train.shape)\n",
    "print(X_test.shape)\n",
    "print(y_train.shape)\n",
    "print(y_test.shape)"
   ]
  },
  {
   "cell_type": "code",
   "execution_count": 30,
   "metadata": {},
   "outputs": [
    {
     "data": {
      "text/html": [
       "<div>\n",
       "<style scoped>\n",
       "    .dataframe tbody tr th:only-of-type {\n",
       "        vertical-align: middle;\n",
       "    }\n",
       "\n",
       "    .dataframe tbody tr th {\n",
       "        vertical-align: top;\n",
       "    }\n",
       "\n",
       "    .dataframe thead th {\n",
       "        text-align: right;\n",
       "    }\n",
       "</style>\n",
       "<table border=\"1\" class=\"dataframe\">\n",
       "  <thead>\n",
       "    <tr style=\"text-align: right;\">\n",
       "      <th></th>\n",
       "      <th>age</th>\n",
       "      <th>sex</th>\n",
       "      <th>trestbps</th>\n",
       "      <th>chol</th>\n",
       "      <th>cigs</th>\n",
       "      <th>years</th>\n",
       "      <th>fbs</th>\n",
       "      <th>famhist</th>\n",
       "      <th>thalach</th>\n",
       "      <th>exang</th>\n",
       "      <th>cp</th>\n",
       "      <th>restecg</th>\n",
       "      <th>thal</th>\n",
       "    </tr>\n",
       "  </thead>\n",
       "  <tbody>\n",
       "    <tr>\n",
       "      <th>0</th>\n",
       "      <td>0.458333</td>\n",
       "      <td>1.0</td>\n",
       "      <td>0.407895</td>\n",
       "      <td>0.508547</td>\n",
       "      <td>0.000000</td>\n",
       "      <td>0.000000</td>\n",
       "      <td>1.0</td>\n",
       "      <td>0.0</td>\n",
       "      <td>0.684211</td>\n",
       "      <td>0.0</td>\n",
       "      <td>3.0</td>\n",
       "      <td>2.0</td>\n",
       "      <td>3.0</td>\n",
       "    </tr>\n",
       "    <tr>\n",
       "      <th>1</th>\n",
       "      <td>0.687500</td>\n",
       "      <td>0.0</td>\n",
       "      <td>0.578947</td>\n",
       "      <td>0.717949</td>\n",
       "      <td>0.266667</td>\n",
       "      <td>0.500000</td>\n",
       "      <td>1.0</td>\n",
       "      <td>1.0</td>\n",
       "      <td>0.157895</td>\n",
       "      <td>0.0</td>\n",
       "      <td>4.0</td>\n",
       "      <td>0.0</td>\n",
       "      <td>3.0</td>\n",
       "    </tr>\n",
       "    <tr>\n",
       "      <th>2</th>\n",
       "      <td>0.416667</td>\n",
       "      <td>1.0</td>\n",
       "      <td>0.473684</td>\n",
       "      <td>0.598291</td>\n",
       "      <td>0.333333</td>\n",
       "      <td>0.440000</td>\n",
       "      <td>0.0</td>\n",
       "      <td>0.0</td>\n",
       "      <td>0.728070</td>\n",
       "      <td>0.0</td>\n",
       "      <td>2.0</td>\n",
       "      <td>0.0</td>\n",
       "      <td>3.0</td>\n",
       "    </tr>\n",
       "    <tr>\n",
       "      <th>3</th>\n",
       "      <td>0.812500</td>\n",
       "      <td>1.0</td>\n",
       "      <td>0.315789</td>\n",
       "      <td>0.645299</td>\n",
       "      <td>0.026667</td>\n",
       "      <td>0.478785</td>\n",
       "      <td>0.0</td>\n",
       "      <td>0.0</td>\n",
       "      <td>0.552632</td>\n",
       "      <td>0.0</td>\n",
       "      <td>3.0</td>\n",
       "      <td>0.0</td>\n",
       "      <td>7.0</td>\n",
       "    </tr>\n",
       "    <tr>\n",
       "      <th>4</th>\n",
       "      <td>0.625000</td>\n",
       "      <td>1.0</td>\n",
       "      <td>0.605263</td>\n",
       "      <td>0.405983</td>\n",
       "      <td>0.266667</td>\n",
       "      <td>0.800000</td>\n",
       "      <td>0.0</td>\n",
       "      <td>1.0</td>\n",
       "      <td>0.666667</td>\n",
       "      <td>1.0</td>\n",
       "      <td>2.0</td>\n",
       "      <td>0.0</td>\n",
       "      <td>3.0</td>\n",
       "    </tr>\n",
       "  </tbody>\n",
       "</table>\n",
       "</div>"
      ],
      "text/plain": [
       "        age  sex  trestbps      chol      cigs     years  fbs  famhist  \\\n",
       "0  0.458333  1.0  0.407895  0.508547  0.000000  0.000000  1.0      0.0   \n",
       "1  0.687500  0.0  0.578947  0.717949  0.266667  0.500000  1.0      1.0   \n",
       "2  0.416667  1.0  0.473684  0.598291  0.333333  0.440000  0.0      0.0   \n",
       "3  0.812500  1.0  0.315789  0.645299  0.026667  0.478785  0.0      0.0   \n",
       "4  0.625000  1.0  0.605263  0.405983  0.266667  0.800000  0.0      1.0   \n",
       "\n",
       "    thalach  exang   cp  restecg  thal  \n",
       "0  0.684211    0.0  3.0      2.0   3.0  \n",
       "1  0.157895    0.0  4.0      0.0   3.0  \n",
       "2  0.728070    0.0  2.0      0.0   3.0  \n",
       "3  0.552632    0.0  3.0      0.0   7.0  \n",
       "4  0.666667    1.0  2.0      0.0   3.0  "
      ]
     },
     "execution_count": 30,
     "metadata": {},
     "output_type": "execute_result"
    }
   ],
   "source": [
    "# Load in the scaler\n",
    "min_max_scaler = preprocessing.MinMaxScaler()\n",
    "\n",
    "# normalize X_train and X_test\n",
    "X_tr_norm = min_max_scaler.fit_transform(X_train)\n",
    "#only fit the scaler to the train data, and then transform the test data to those parameters (per Raschka, 2019)\n",
    "X_te_norm = min_max_scaler.transform(X_test) \n",
    "\n",
    "#reconstruct train and test sets\n",
    "norm_data_tr = pd.DataFrame(X_tr_norm,columns=feat_cols)\n",
    "norm_data_te = pd.DataFrame(X_te_norm,columns=feat_cols)\n",
    "\n",
    "# Conver the numpy array into a pandas DataFrame\n",
    "X_train_df = pd.DataFrame(X_train, columns=feat_cols)\n",
    "X_test_df = pd.DataFrame(X_test, columns=feat_cols)\n",
    "\n",
    "# Remove the normalized features that are categorical and should not be scaled\n",
    "norm_data_tr.drop(['cp', 'restecg', 'thal'],axis=1, inplace=True)\n",
    "norm_data_te.drop(['cp', 'restecg', 'thal'],axis=1, inplace=True)\n",
    "\n",
    "# Add in the non-scaled, original categorical features\n",
    "norm_data_tr['cp'] = X_train_df['cp']\n",
    "norm_data_te['cp'] = X_test_df['cp']\n",
    "\n",
    "norm_data_tr['restecg'] = X_train_df['restecg']\n",
    "norm_data_te['restecg'] = X_test_df['restecg']\n",
    "\n",
    "norm_data_tr['thal'] = X_train_df['thal']\n",
    "norm_data_te['thal'] = X_test_df['thal']\n",
    "\n",
    "norm_data_tr.head()"
   ]
  },
  {
   "cell_type": "code",
   "execution_count": 31,
   "metadata": {},
   "outputs": [
    {
     "name": "stdout",
     "output_type": "stream",
     "text": [
      "Evaluating 2 clusters\n",
      "Evaluating 3 clusters\n",
      "Evaluating 4 clusters\n",
      "Evaluating 5 clusters\n",
      "Evaluating 6 clusters\n",
      "Evaluating 7 clusters\n",
      "Evaluating 8 clusters\n",
      "Evaluating 9 clusters\n",
      "Evaluating 10 clusters\n",
      "Evaluating 11 clusters\n",
      "Evaluating 12 clusters\n",
      "Evaluating 13 clusters\n",
      "Evaluating 14 clusters\n",
      "Evaluating 15 clusters\n",
      "Evaluating 16 clusters\n",
      "Evaluating 17 clusters\n",
      "Evaluating 18 clusters\n",
      "Evaluating 19 clusters\n"
     ]
    },
    {
     "data": {
      "text/plain": [
       "[0.7368421052631579,\n",
       " 0.8245614035087719,\n",
       " 0.7894736842105263,\n",
       " 0.7894736842105263,\n",
       " 0.7719298245614035,\n",
       " 0.7719298245614035,\n",
       " 0.7894736842105263,\n",
       " 0.7719298245614035,\n",
       " 0.7543859649122807,\n",
       " 0.7719298245614035,\n",
       " 0.7719298245614035,\n",
       " 0.7719298245614035,\n",
       " 0.7719298245614035,\n",
       " 0.7719298245614035,\n",
       " 0.7894736842105263,\n",
       " 0.8070175438596491,\n",
       " 0.7543859649122807,\n",
       " 0.7894736842105263]"
      ]
     },
     "execution_count": 31,
     "metadata": {},
     "output_type": "execute_result"
    }
   ],
   "source": [
    "scores = []\n",
    "\n",
    "for k in range(2, 20):\n",
    "    # output to let us know where we are\n",
    "    print(f'Evaluating {k} clusters')\n",
    "    \n",
    "    # n_jobs=-1 will use all processors on your system\n",
    "    model = KNeighborsClassifier(n_neighbors=k, n_jobs=-1)\n",
    "    model.fit(norm_data_tr, y_train)\n",
    "    preds = model.predict(norm_data_te)\n",
    "    scores.append(accuracy_score(y_test, preds))\n",
    "    \n",
    "scores"
   ]
  },
  {
   "cell_type": "code",
   "execution_count": 32,
   "metadata": {},
   "outputs": [
    {
     "data": {
      "image/png": "[encoded data removed]",
      "text/plain": [
       "<Figure size 432x288 with 1 Axes>"
      ]
     },
     "metadata": {},
     "output_type": "display_data"
    }
   ],
   "source": [
    "# display the resutls\n",
    "plt.plot(range(2, 20), scores)\n",
    "plt.scatter(range(2, 20), scores)\n",
    "plt.grid()\n",
    "_ =plt.xticks(range(2, 20))\n",
    "\n",
    "#Source: Week 2 Lecture"
   ]
  },
  {
   "cell_type": "markdown",
   "metadata": {},
   "source": [
    "The output two cells up as well as the graph directly above shows that setting k = 3 will provide the most accurate model."
   ]
  },
  {
   "cell_type": "code",
   "execution_count": 33,
   "metadata": {},
   "outputs": [
    {
     "name": "stdout",
     "output_type": "stream",
     "text": [
      "R-squared:  0.2980295566502462\n",
      "Accuracy:  0.8245614035087719\n"
     ]
    }
   ],
   "source": [
    "# Build model with 3 nearest_neighbors\n",
    "model = KNeighborsClassifier(n_neighbors=3, n_jobs=-1)\n",
    "model.fit(norm_data_tr, y_train)\n",
    "\n",
    "# gather the predictations that our model made for our test set\n",
    "preds = model.predict(norm_data_te)\n",
    "\n",
    "print('R-squared: ',r2_score(y_test,preds))\n",
    "print('Accuracy: ',accuracy_score(y_test, preds))"
   ]
  },
  {
   "cell_type": "code",
   "execution_count": 34,
   "metadata": {},
   "outputs": [
    {
     "data": {
      "text/plain": [
       "array([[25,  4],\n",
       "       [ 6, 22]], dtype=int64)"
      ]
     },
     "execution_count": 34,
     "metadata": {},
     "output_type": "execute_result"
    }
   ],
   "source": [
    "confusion_matrix(y_test, preds)"
   ]
  },
  {
   "cell_type": "markdown",
   "metadata": {},
   "source": [
    "Making it a binary problem greatly improved the model's accuracy (82%) and R-squared (0.30) from what I achieved previously.  The confusion matrix is also a lot simpler, as there are less classes to classify.  In this model, with 3 nearest-neighbors, 25 0s were classified correctly, while 4 1s were classified as 0s.  6 0s were classified as 1s while 22 1s were correctly classified. \n",
    "\n",
    "In a real-world application, this simpler problem may be more useful.  It would be useful to be able to classify with greater accuracy whether a patient has heart disaese or not, and then if they do, to determine the degree.  This approach may be better than doing both steps in one, as my prior classification models were doing."
   ]
  }
 ],
 "metadata": {
  "kernelspec": {
   "display_name": "Python 3",
   "language": "python",
   "name": "python3"
  },
  "language_info": {
   "codemirror_mode": {
    "name": "ipython",
    "version": 3
   },
   "file_extension": ".py",
   "mimetype": "text/x-python",
   "name": "python",
   "nbconvert_exporter": "python",
   "pygments_lexer": "ipython3",
   "version": "3.8.5"
  }
 },
 "nbformat": 4,
 "nbformat_minor": 4
}
